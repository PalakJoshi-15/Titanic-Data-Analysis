{
 "cells": [
  {
   "cell_type": "code",
   "execution_count": null,
   "metadata": {},
   "outputs": [],
   "source": [
    "# I tried to do exploratory analysis of the data of onboard passengers from Titanic dataset.\n",
    "# The data was downloaded from Kaggle website: https://www.kaggle.com/c/titanic/data, file train.csv.  \n",
    "# The definition of all variables can be found on the same Kaggle page, in the Data Dictionary section.\n",
    "# Read the data from the file into pandas DataFrame. Analyze, clean and transform the data to get some answers."
   ]
  },
  {
   "cell_type": "code",
   "execution_count": null,
   "metadata": {},
   "outputs": [],
   "source": [
    "# first do some exploratory analysis of given dataset. For this I am using pandas and numpy libraries.\n",
    "\n",
    "# import the python libraries and download dataset using read_csv() method\n",
    "import pandas as pd\n",
    "import numpy as np\n",
    "\n",
    "titanic = pd.read_csv('train.csv')\n",
    "titanic.head()"
   ]
  },
  {
   "cell_type": "code",
   "execution_count": null,
   "metadata": {},
   "outputs": [],
   "source": [
    "# Now use info() method to explore the dataset and get information about data. \n",
    "titanic.info()\n"
   ]
  },
  {
   "cell_type": "code",
   "execution_count": null,
   "metadata": {},
   "outputs": [],
   "source": [
    "# From the above info() method, we got  information about each columns are as below.\n",
    "\n",
    "# PassengerID - passenger ID numbers\n",
    "# Survived : Survival info - 0 = No; 1 = Yes\n",
    "# Pclass: Passenger Class- 1 = 1st class; 2 = 2nd class; 3 = 3rd class\n",
    "# Name: Name of passenger\n",
    "# Sex: Sex of passenger\n",
    "# Age: Age of passenger\n",
    "# Sibsp: Number of Siblings/Spouses \n",
    "# Parch: Number of Parents/Children \n",
    "# Ticket: Passenger Ticket Number\n",
    "# Fare: how much of Passenger Fare\n",
    "# Cabin: Cabin number\n",
    "# Embarked: Port initial\n",
    "\n",
    "#Age and Fare attributes have float datatype, while PassengerId, Survived,Pclass, SibSp and Parch \n",
    "#have interger data. Name, Sex, Ticket, Cabin and Embarked have object datatype.\n",
    "\n",
    "#There are 891 entries in the dataset. columns 'Age'  'Cabin'  and 'Embarked' \n",
    "# have  missing values.\n"
   ]
  },
  {
   "cell_type": "code",
   "execution_count": null,
   "metadata": {},
   "outputs": [],
   "source": [
    "# use isnull() function to detect for any missing values and sum() method to count those value\n",
    "\n",
    "titanic.isnull().sum()"
   ]
  },
  {
   "cell_type": "code",
   "execution_count": null,
   "metadata": {},
   "outputs": [],
   "source": [
    "# From above data, Age column have total 177, Cabin have 687 and Embarked have 2 missing value. \n",
    "# We need to replace this missing values if possible or can exclude the columns depend on\n",
    "# requiremnents."
   ]
  },
  {
   "cell_type": "code",
   "execution_count": null,
   "metadata": {},
   "outputs": [],
   "source": [
    "# with the use of nunique() method, we can see how many number of unique records in each columns.\n",
    "\n",
    "titanic.nunique()"
   ]
  },
  {
   "cell_type": "code",
   "execution_count": null,
   "metadata": {},
   "outputs": [],
   "source": [
    "# We can see from above information, that for Survived there are 2 diff number of records, 3 for \n",
    "#Pclass, 2 for Sex, 88 for Age, 7 for SibSp, 7 for Parch, 3 for Embarked. PassengerId and Name\n",
    "#have 891, Ticket have 681, Fare 248 and Cabin 147."
   ]
  },
  {
   "cell_type": "code",
   "execution_count": null,
   "metadata": {},
   "outputs": [],
   "source": [
    "# Use describe() method to see stastatical summary of imported data\n",
    "titanic.describe()"
   ]
  },
  {
   "cell_type": "code",
   "execution_count": null,
   "metadata": {},
   "outputs": [],
   "source": [
    "# we can get different numeric values of columns  have datatype int or float. This  will returns\n",
    "# counts, mean, min, std and percentile of column data. Object datatype columns  didn't included.\n",
    "# here, Age column have mean is 29 but this is not true as some of the raws have missing values.\n",
    "# We need to clean data and replace missing data or need to drop some of raws. We will work on it. "
   ]
  },
  {
   "cell_type": "code",
   "execution_count": null,
   "metadata": {},
   "outputs": [],
   "source": [
    "# Now checking all columns(attributes) for their counts by their unique records"
   ]
  },
  {
   "cell_type": "code",
   "execution_count": null,
   "metadata": {},
   "outputs": [],
   "source": [
    "# check the counts of each records using Value_counts() method\n",
    "\n",
    "# here, 0 is for Survived and 1 is for not survived passengers\n",
    "\n",
    "titanic['Survived'].value_counts()"
   ]
  },
  {
   "cell_type": "code",
   "execution_count": null,
   "metadata": {},
   "outputs": [],
   "source": [
    "# Same as above, find Pclass counts for each different class\n",
    "titanic['Pclass'].value_counts()"
   ]
  },
  {
   "cell_type": "code",
   "execution_count": null,
   "metadata": {},
   "outputs": [],
   "source": [
    "# There are 3 passenger class. 1st class have 216, 2nd class have 184 and 3rd class have 491 entry"
   ]
  },
  {
   "cell_type": "code",
   "execution_count": null,
   "metadata": {},
   "outputs": [],
   "source": [
    "# check for how many male and female passengers are\n",
    "titanic['Sex'].value_counts()"
   ]
  },
  {
   "cell_type": "code",
   "execution_count": null,
   "metadata": {},
   "outputs": [],
   "source": [
    "# to check the age range\n",
    "\n",
    "titanic['Age'].value_counts()"
   ]
  },
  {
   "cell_type": "code",
   "execution_count": null,
   "metadata": {},
   "outputs": [],
   "source": [
    "# check wheather passengers are travelling alone or with someone. that is with sibling or spouse or any one\n",
    "titanic['SibSp'].value_counts()"
   ]
  },
  {
   "cell_type": "code",
   "execution_count": null,
   "metadata": {},
   "outputs": [],
   "source": [
    "# There are 6 different SibSp records are available for 891 passengers.\n",
    "# We can tell that there are 608 passengers are travelling alone. passengers travelling with sibling\n",
    "# or spouse are -  209 passengers with one , 218 passengers with 2, 18 passengers with 4 , 16\n",
    "# passengers with 3 , 7 passengers with 8 ,5 passengers with 5 and 7 passengers with 8."
   ]
  },
  {
   "cell_type": "code",
   "execution_count": null,
   "metadata": {},
   "outputs": [],
   "source": [
    "# check if the passengers are travelling with kids and if so how many. As parent-childeren combination\n",
    "\n",
    "titanic['Parch'].value_counts()"
   ]
  },
  {
   "cell_type": "code",
   "execution_count": null,
   "metadata": {},
   "outputs": [],
   "source": [
    "# There are 7 Parch combinations are there.\n",
    "# Countings of parents travelling with children are as below.\n",
    "#678 passengers are alnoe, 118 are with 1 parent/child, 80 are with 2, 5 are with 5, 5 are with 3,\n",
    "#4 are with 4 and 1 with 6 parent/child."
   ]
  },
  {
   "cell_type": "code",
   "execution_count": null,
   "metadata": {},
   "outputs": [],
   "source": [
    "# check the passengers from there port name\n",
    "\n",
    "titanic['Embarked'].value_counts()"
   ]
  },
  {
   "cell_type": "code",
   "execution_count": null,
   "metadata": {},
   "outputs": [],
   "source": [
    "# Filling the Missing Values:\n",
    "\n",
    "#  filling the missing values for Column Embarked with common category as it have only 2 values \n",
    "# are missing."
   ]
  },
  {
   "cell_type": "code",
   "execution_count": null,
   "metadata": {},
   "outputs": [],
   "source": [
    "#We saw from info() method that the type of Embarked column is object. After counting the unique\n",
    "#values in Embarked column with unique(), we can see that there are 3 unique values in the \n",
    "#column. Considering that the data type should be categorical so changeing the datatype of column\n",
    "\n",
    "titanic['Embarked']= titanic['Embarked'].astype('category')\n",
    "titanic['Embarked'].dtype"
   ]
  },
  {
   "cell_type": "code",
   "execution_count": null,
   "metadata": {},
   "outputs": [],
   "source": [
    "# replace missing raws with major number of categories, that is 'S'\n",
    "\n",
    "c_category = 'S'\n",
    "data = [titanic]\n",
    "\n",
    "for dataset in data:\n",
    "    dataset['Embarked'] = dataset['Embarked'].fillna(c_category)"
   ]
  },
  {
   "cell_type": "code",
   "execution_count": null,
   "metadata": {},
   "outputs": [],
   "source": [
    "# checking that missing value is filled\n",
    "\n",
    "titanic['Embarked'].value_counts()\n",
    "\n",
    "# now two missing raws values are replaced by 'S'"
   ]
  },
  {
   "cell_type": "code",
   "execution_count": null,
   "metadata": {},
   "outputs": [],
   "source": [
    "# now filling random values as the missing value in the 'Age' column\n",
    "\n",
    "# Age column have 177 missing values. We can use random numbers between std, mean and is_null\n",
    "# for missing values as "
   ]
  },
  {
   "cell_type": "code",
   "execution_count": null,
   "metadata": {},
   "outputs": [],
   "source": [
    "data = [titanic]\n",
    "# use for statement, \n",
    "for dataset in data:\n",
    "    mean = titanic['Age'].mean()\n",
    "    std = titanic['Age'].std()\n",
    "    is_null = dataset['Age'].isnull().sum()\n",
    "         # compute random numbers between the mean, std and is_null\n",
    "    rand_age = np.random.randint(mean - std, mean + std, size = is_null)\n",
    "         # fill nan values in Age column with random values generated\n",
    "    age_diff = dataset['Age'].copy()\n",
    "    age_diff[np.isnan(age_diff)] = rand_age\n",
    "    dataset['Age'] = age_diff\n",
    "    dataset['Age'] = titanic['Age'].astype(int)"
   ]
  },
  {
   "cell_type": "code",
   "execution_count": null,
   "metadata": {},
   "outputs": [],
   "source": [
    "# checking that missing values are filled in the column\n",
    "titanic['Age'].isnull().sum()\n",
    "\n",
    "# null value for all raws of 'Age' are 0 now. so all the missing values are filled with mean, std"
   ]
  },
  {
   "cell_type": "code",
   "execution_count": null,
   "metadata": {},
   "outputs": [],
   "source": [
    "# Working with 'Name' column. \n",
    " \n",
    "titanic['Name'].head()"
   ]
  },
  {
   "cell_type": "code",
   "execution_count": null,
   "metadata": {},
   "outputs": [],
   "source": [
    "titanic['Name'].tail()"
   ]
  },
  {
   "cell_type": "code",
   "execution_count": null,
   "metadata": {},
   "outputs": [],
   "source": [
    "# We can see that, in the 'Name' column,  we have different title for name as Mr., Mrs., Miss, \n",
    "# Master, Rev etc. To find if there are more different titles avalable in data, use .extract() to string\n",
    "\n",
    "# RegEx is used to check if a string contains the specific search pattern.\n",
    "# Name of passenger is a series.Use Series.str.extract() function to extract title from the string\n",
    "#in the data of the given series. \n",
    "\n",
    "# Use [a-zA-Z] - returns a match for any character alphabetically between a and z\n",
    "# [+] - returens a match for any character \n",
    "# and then use .value_counts() to count the number\n",
    "\n",
    "\n",
    "titanic['Title'] = titanic.Name.str.extract('([a-zA-Z]+)\\.', expand=False)\n",
    "titanic.Title.value_counts()"
   ]
  },
  {
   "cell_type": "code",
   "execution_count": null,
   "metadata": {},
   "outputs": [],
   "source": [
    "# The common title for passengers are Mr., Mrs., Miss, Master. while other titles like Dr, Rev, Mlle\n",
    "# Col, Major, Jonkheer, Don, Mme, Capt, Ms, Countess, Lady and Sir have very less numbers.\n",
    "#differentiate titles by 5 categories. Mr, Mrs, Miss, Master and Other"
   ]
  },
  {
   "cell_type": "code",
   "execution_count": null,
   "metadata": {},
   "outputs": [],
   "source": [
    "# Create new attribute 'TitleCategory' from  'Title', using title associated to each name.\n",
    "#From TitleCategory, we can count survived passengers acording to its title.\n",
    "# For this using "
   ]
  },
  {
   "cell_type": "code",
   "execution_count": null,
   "metadata": {},
   "outputs": [],
   "source": [
    "titanic['TitleCategory'] = titanic['Title']\n",
    "titanic.TitleCategory.replace(to_replace= ['Dr','Rev','Col','Major','Mlle','Lady','Mme','Don',\n",
    "                                           'Jonkheer','Ms','Capt','Sir','Countess'],value=0, inplace=True)\n",
    "titanic.TitleCategory.replace('Mr',1,inplace=True)\n",
    "titanic.TitleCategory.replace('Miss',2,inplace=True)\n",
    "titanic.TitleCategory.replace('Mrs',3,inplace=True)\n",
    "titanic.TitleCategory.replace('Master',4,inplace=True)\n",
    "SurvivedByTitle = titanic['TitleCategory'][titanic['Survived']==1]\n",
    "print ('Category 1 with title Mr are: ', SurvivedByTitle.value_counts()[1])\n",
    "print ('Category 2 with title Miss are: ', SurvivedByTitle.value_counts()[2])\n",
    "print ('Category 3 with title Mrs are: ', SurvivedByTitle.value_counts()[3])\n",
    "print ('Category 4 with title Master are: ', SurvivedByTitle.value_counts()[4])\n",
    "print ('Category 0 with title other are: ', SurvivedByTitle.value_counts()[0])"
   ]
  },
  {
   "cell_type": "code",
   "execution_count": null,
   "metadata": {},
   "outputs": [],
   "source": [
    "# We can compare above survival data by category with total passengers by titles.\n",
    "# Female passengers with titles Mrs. and Miss have more survival rate than male passengers.\n",
    "# From total of 517 passengers with title Mr only 81 survived while title Mrs out of 125 survived 99.\n",
    "# \n",
    "\n",
    "# Also, we can observe that female passengers with title Mrs has better number of survival\n",
    "# as compared to female passengers with title Miss. This can be because maybe married women with \n",
    "# small children were given higher priority. Also the small boys also were given priority as can \n",
    "# be observed from the survived number are 23 out of 40 of title Master."
   ]
  },
  {
   "cell_type": "code",
   "execution_count": null,
   "metadata": {},
   "outputs": [],
   "source": [
    "# To checking the passengers travelling are more than one together, create new 'Family' column.\n",
    "# Where passengers with sibling or spouse and parent with children are consider as family.\n",
    "# concatenate two columns, SibSp and Parch to create new attribute, Family\n",
    "\n",
    "# passenger with Family returens True and single  returns False boolean value\n",
    "\n",
    "titanic['Family'] = (titanic['SibSp'] > 0) | (titanic['Parch'] > 0)\n",
    "titanic['Family']"
   ]
  },
  {
   "cell_type": "code",
   "execution_count": null,
   "metadata": {},
   "outputs": [],
   "source": [
    "# now check survival number of passengrs with and without family\n",
    "\n",
    "titanic.groupby(['Sex','Family']).Survived.count()\n"
   ]
  },
  {
   "cell_type": "code",
   "execution_count": null,
   "metadata": {},
   "outputs": [],
   "source": [
    "# Let’s see if departure place has any effect on survival of the passenger. Here, C = Cherbourg,\n",
    "# Q = Queenstown and S = Southmpton\n",
    "\n",
    "titanic.groupby( ['Embarked','Sex', 'Pclass']).Survived.count()"
   ]
  },
  {
   "cell_type": "code",
   "execution_count": null,
   "metadata": {},
   "outputs": [],
   "source": [
    "# Southmpton port have more passengers boarded as compared to othe two port"
   ]
  },
  {
   "cell_type": "code",
   "execution_count": null,
   "metadata": {},
   "outputs": [],
   "source": [
    "# checking the counts \n",
    "titanic['Cabin'].value_counts()"
   ]
  },
  {
   "cell_type": "code",
   "execution_count": null,
   "metadata": {},
   "outputs": [],
   "source": [
    "titanic['Cabin'].apply(lambda x: str(x)[0]).value_counts()\n",
    "\n",
    "#function apply() will apply a function to every element in the selected DataFrame. \n",
    "# apply(lambda x: {some transformation}) is going to treat each value in the column as the x and \n",
    "# transform it with the function after the colon. For example, cabin G6 is going to be transformed\n",
    "# into str(G6)[0], which is just G. We need this string cast"
   ]
  },
  {
   "cell_type": "code",
   "execution_count": null,
   "metadata": {},
   "outputs": [],
   "source": [
    "t_dropped = titanic.drop(['Ticket','Fare','Cabin'], axis = 1).set_index('PassengerId')\n",
    "t_dropped\n",
    "\n",
    "# apply function drop() to remove some of column from the dataset as focusing on the Pclass, Sex,\n",
    "# Age and Name categories."
   ]
  },
  {
   "cell_type": "code",
   "execution_count": null,
   "metadata": {},
   "outputs": [],
   "source": [
    "##It calculates the count, the mean, standard deviation, minimum value, maximum value, \n",
    "#1st percentile, 2nd percentile, 3rd percentile of the columns with numeric values. \n",
    "\n",
    "t_dropped.describe()"
   ]
  },
  {
   "cell_type": "code",
   "execution_count": null,
   "metadata": {},
   "outputs": [],
   "source": [
    "t_grouped = t_dropped.groupby(['Survived','Pclass','Sex']).count()\n",
    "t_grouped\n",
    "\n",
    "# method groupby() used to group 3 columns and then count() method for counting the numbers"
   ]
  },
  {
   "cell_type": "code",
   "execution_count": null,
   "metadata": {},
   "outputs": [],
   "source": [
    "# Use the indexing operator .loc to select survived raws from dataset\n",
    "\n",
    "t_grouped.loc[1]"
   ]
  },
  {
   "cell_type": "code",
   "execution_count": null,
   "metadata": {},
   "outputs": [],
   "source": [
    "#Found below information from above data.\n",
    "\n",
    "# out of 891 passengers, 342 are survived and 549 not survived.\n",
    "\n",
    "# From above data, we can tell that Pclass is affect to the survival rate of passengers. Pclass 1\n",
    "# have more passengers survived than other two class.\n",
    "\n",
    "# out of 342 Survived passengers, for Pclass 1-136, Pclass 2-87 and Pclass 3-119.\n",
    "# While from 549 not survived passengers, for Pclass 1-80, Pclass 2-97 and Pclass 3-372.\n",
    "\n",
    "# Same with Female have more survival rate than male.\n",
    "# Out of 314 total Survived Female are 233 and not survived are 81.\n",
    "# While out of 577 total survived male are 109 and not survived are 468.\n",
    "\n",
    "#We also differintiate survived female and male passengers according to their class as below.\n",
    "# Pclass 1-- female- 91  male-45\n",
    "# Pclass 2--female- 70  male-17\n",
    "# Pclass 3--female- 72  male-47\n",
    "\n",
    "#Not survived male and female passenges are\n",
    "# Pclass 1-- female- 3  male-77\n",
    "# Pclass 2--female-  6 male-91\n",
    "# Pclass 3--female- 72  male-300"
   ]
  },
  {
   "cell_type": "code",
   "execution_count": null,
   "metadata": {},
   "outputs": [],
   "source": [
    "# Conclusion:\n",
    "\n",
    "# From all our exploratory analysis of titanic dataset, we can say that there are some of attributes\n",
    "# have more survival rate over others. Such as Pclass, Sex category. Female have higher survival over male.\n",
    "# We also see that Class(Socio-Economic status) of the passengers had played a role in their survival. \n",
    "\n",
    "# Still can get different information by exploring more attributes to cover another type of questions."
   ]
  },
  {
   "cell_type": "code",
   "execution_count": null,
   "metadata": {},
   "outputs": [],
   "source": []
  }
 ],
 "metadata": {
  "kernelspec": {
   "display_name": "Python 3",
   "language": "python",
   "name": "python3"
  },
  "language_info": {
   "codemirror_mode": {
    "name": "ipython",
    "version": 3
   },
   "file_extension": ".py",
   "mimetype": "text/x-python",
   "name": "python",
   "nbconvert_exporter": "python",
   "pygments_lexer": "ipython3",
   "version": "3.7.4"
  }
 },
 "nbformat": 4,
 "nbformat_minor": 2
}
